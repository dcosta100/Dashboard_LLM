{
 "cells": [
  {
   "cell_type": "code",
   "execution_count": 1,
   "id": "89a5d435",
   "metadata": {},
   "outputs": [],
   "source": [
    "from sqlalchemy import create_engine\n",
    "import pandas as pd\n",
    "from wordcloud import WordCloud\n",
    "import matplotlib.pyplot as plt\n",
    "import json\n",
    "\n",
    "# Staging\n",
    "server_stg = '34.95.134.241'\n",
    "database_stg = 'VoistonDb'\n",
    "username_stg = 'sqlserver'\n",
    "password_stg = '.KN_mWXA7kxsnat'\n",
    "\n",
    "# Prod\n",
    "server_prod = '34.95.157.73'\n",
    "database_prod = 'VoistonDb'\n",
    "username_prod = 'sqlserver'\n",
    "password_prod = 'BF2y4d!.DqR6'\n",
    "# String de conexão com SQLAlchemy\n",
    "\n",
    "engine_stg = create_engine(f\"mssql+pyodbc://{username_stg}:{password_stg}@{server_stg}/{database_stg}?driver=ODBC+Driver+17+for+SQL+Server\")\n",
    "engine_prod = create_engine(f\"mssql+pyodbc://{username_prod}:{password_prod}@{server_prod}/{database_prod}?driver=ODBC+Driver+17+for+SQL+Server\")"
   ]
  },
  {
   "cell_type": "code",
   "execution_count": 2,
   "id": "a6dcd229",
   "metadata": {},
   "outputs": [],
   "source": [
    "data_rep_query = \"\"\"\n",
    "select * from DataReports\n",
    "where ehr_id is not null\n",
    "\"\"\""
   ]
  },
  {
   "cell_type": "code",
   "execution_count": 3,
   "id": "12bbe199",
   "metadata": {},
   "outputs": [],
   "source": [
    "df = pd.read_sql(data_rep_query, engine_stg)"
   ]
  },
  {
   "cell_type": "code",
   "execution_count": 4,
   "id": "1d6d79b2",
   "metadata": {},
   "outputs": [
    {
     "data": {
      "text/plain": [
       "(2416, 10)"
      ]
     },
     "execution_count": 4,
     "metadata": {},
     "output_type": "execute_result"
    }
   ],
   "source": [
    "df.shape"
   ]
  },
  {
   "cell_type": "code",
   "execution_count": 5,
   "id": "0a13925a",
   "metadata": {},
   "outputs": [
    {
     "data": {
      "application/vnd.microsoft.datawrangler.viewer.v0+json": {
       "columns": [
        {
         "name": "index",
         "rawType": "int64",
         "type": "integer"
        },
        {
         "name": "ID",
         "rawType": "int64",
         "type": "integer"
        },
        {
         "name": "ValidationStatus",
         "rawType": "int64",
         "type": "integer"
        },
        {
         "name": "DownloadUrl",
         "rawType": "object",
         "type": "unknown"
        },
        {
         "name": "ReportText",
         "rawType": "object",
         "type": "string"
        },
        {
         "name": "DateCreated",
         "rawType": "datetime64[ns]",
         "type": "datetime"
        },
        {
         "name": "LastModified",
         "rawType": "datetime64[ns]",
         "type": "datetime"
        },
        {
         "name": "Exam_ID",
         "rawType": "object",
         "type": "unknown"
        },
        {
         "name": "ExtractedData",
         "rawType": "int64",
         "type": "integer"
        },
        {
         "name": "EHR_ID",
         "rawType": "int64",
         "type": "integer"
        },
        {
         "name": "Description",
         "rawType": "object",
         "type": "string"
        }
       ],
       "ref": "000d5132-dd41-4a28-9fad-3f3cf7edbe57",
       "rows": [
        [
         "0",
         "7",
         "0",
         null,
         "EHR Report Info: \r\n\r\nEHR Id: 4717\r\n\r\nEHR Date Taken: 2/13/2020 12:00:00 AM\r\n\r\nReport Description: Celso, revisitado em  2021\r\n\r\n\r\nProcedures Evidence:\r\nPhotorefractive Keratectomy 80 Day both  \r\nPhotorefractive Keratectomy: PRK \r\nMitomicina C 80 Day both Eye \r\nMitomicina C: mitomicina\r\nmmc\r\nMITO \r\n\r\nPrescriptions:\r\n\r\nMeasurements:\r\nIntra Ocular Pressure left 10 None\r\nIntra Ocular Pressure right 9 None\r\nVisual Acuity Snellen No Correction both 1 None\r\n\r\nUnformated Text:\r\n\r\n80o PO PRK MITOMICINA AO<br><br>REFERE BOA ACUIDADE VISUAL.<br>HYABAK VÁRIAS VEZES AO DIA<br><br>AVLSC<br>AO 20/20<br><br>BIO AO CÓRNEA LBT<br><br>PIO 9/10 MMHG<br><br><br>RET NOV 2020 ( TOPOGRAFIA)<br><br>&nbsp;\r\n\r\n\r\nPre Processed Text:\r\n80o PO PRK MITOMICINA AMBOS OS OLHOS\r\nREFERE BOA ACUIDADE VISUAL.\r\nHYABAK VÁRIAS VEZES AO DIA\r\nACUIDADE VISUAL LSC\r\nAMBOS OS OLHOS 20/20\r\nbiomicroscopia AMBOS OS OLHOS CÓRNEA LBT\r\nPRESSÃO INTRA-OCULAR 9/10 MMHG\r\nCONSULTA DE RETORNO NOV 2020 ( TOPOGRAFIA)\r\n\r\n\r\nTranslated Text:\r\n80O PO PRK MITOMYCIN BOTH EYES \r\n REFERS GOOD VISUAL ACUITY. \r\n HYABAK SEVERAL TIMES A DAY \r\n VISUAL ACUITY LSC \r\n BOTH EYES 20/20 \r\n BIOMICROSCOPY BOTH EYES CORNEA LBT \r\n INTRAOCULAR PRESSURE 9/10 MMHG \r\n RETURN CONSULTATION NOV 2020 (TOPOGRAPHY) \r\n INTRAOCULAR PRESSURE 9/10 MMHG \r\n RETURN CONSULTATION NOV 2020 (TOPOGRAPHY)\r\n\r\n",
         "2020-03-11 14:29:30.267000",
         "2020-03-11 14:29:30.267000",
         null,
         "33",
         "4717",
         "Celso, revisitado em  2021"
        ],
        [
         "1",
         "8",
         "0",
         null,
         "EHR Report Info: \r\n\r\nEHR Id: 311\r\n\r\nEHR Date Taken: 12/14/2017 8:40:00 AM\r\n\r\nReport Description: Celso, revisitado em 2021\r\n\r\n\r\nProcedures Evidence:\r\nEylia 3 Day right  \r\nEylia: eylia\r\neylea\r\neyelia\r\neylai\r\neylis\r\neylai\r\naplica..o eylia\r\naplica..o eyelia\r\naplica..o eylai\r\naplica..o\\sde\\seylia\r\naplica..o\\sde\\seyelia\r\naplica..o\\sde\\seylai\r\naplica..o\\sde\\seyelis\r\naplica..o\\sde\\seylai \r\n\r\nPrescriptions:\r\n\r\nMeasurements:\r\nVisual Acuity Snellen right 0.333333333333333 None\r\nVisual Acuity Snellen left 0.133333333333333 None\r\nIntra Ocular Pressure both 21 None\r\n\r\nUnformated Text:\r\n3o PO EYLIS OD<br /><br />SEM QUEIXAS<br /><br />AV CC 20/60 E 20/150<br /><br />BIO AO CA2+ N1+ SEM RCA<br /><br />PIO AO 21MMHG<br /><br />PRIOGRAMAR FACO +LIO AO<br /><br />&nbsp;\r\n\r\nPre Processed Text:\r\n3o po eylis OLHO DIREITO\r\nsem queixas\r\nACUIDADE VISUAL cc   20/60 OLHO DIREITO\r\nACUIDADE VISUAL cc 20/150  OLHO ESQUERDO\r\nbiomicroscopia AMBOS OS OLHOS ca2+ n1+ sem REAÇÃO DE CAMADA ANTERIOR\r\nPRESSÃO INTRA-OCULAR AMBOS OS OLHOS 21mmhg\r\npriogramar faco +LENTE INTRAOCULAR AMBOS OS OLHOS\r\n\r\n\r\nTranslated Text:\r\n3o po eylis RIGHT EYE \r\n without complaints \r\n VISUAL ACUITY cc 20/60 RIGHT EYE \r\n VISUAL ACUITY cc 20/150 LEFT EYE \r\n biomicroscopy BOTH EYES ca2+ n1+ without REACTION PRESSURE OF EYES 21mmhg \r\n priogramar faco] INTRA-EYES INTRA-EYES\r\n\r\n",
         "2020-03-11 16:00:22.507000",
         "2020-03-11 16:00:22.507000",
         null,
         "33",
         "311",
         "Celso, revisitado em 2021"
        ],
        [
         "2",
         "9",
         "0",
         null,
         "EHR Report Info: \r\n\r\nEHR Id: 323\r\n\r\nEHR Date Taken: 8/2/2018 10:42:00 AM\r\n\r\nReport Description: Celso, revisitado em 2021\r\n\r\n\r\nProcedures Evidence:\r\n\r\nPrescriptions:\r\n\r\nMeasurements:\r\nVisual Acuity Snellen right 0.4 None\r\nEyePrescription.Sphere right -1 Refraction\r\nEyePrescription.Cylinder right -0.50165 Refraction\r\nVisual Acuity Snellen left 0.125 None\r\nEyePrescription.Sphere left 0 Refraction\r\nEyePrescription.Axis left 0 Refraction\r\nEyePrescription.Cylinder left 0 Refraction\r\nEyePrescription.Axis right 165 Refraction\r\nIntra Ocular Pressure both 21 None\r\n\r\nUnformated Text:\r\nULITMA APLICA&Ccedil;&Atilde;O OD HA 2 MESES<br /><br />AV ESTAVEL AO<br /><br />OD -1,00 -0,50165 20/50+<br />OE PLANO 20/160<br /><br />BIO AO LIO OK<br /><br />PIOO 21 AO ( 1030H)\r\n\r\nPre Processed Text:\r\nulitma aplicação OLHO DIREITO ha 2 meses\r\nACUIDADE VISUAL estavel AMBOS OS OLHOS\r\nOLHO DIREITO -1,00 -0,50165 20/50+\r\nOLHO ESQUERDO +0.00 0.00x0 20/160\r\nbiomicroscopia AMBOS OS OLHOS LENTE INTRAOCULAR ok\r\npioo 21 AMBOS OS OLHOS ( 1030h)\r\n\r\n\r\nTranslated Text:\r\nulitma RIGHT EYE application 2 months \r\n STABLE VISUAL ACUITY BOTH EYES \r\n RIGHT EYE -1,00 -0,50165 20/50+ \r\n LEFT EYE +0.00 0.00x0 20/160 \r\n biomicroscopy BOTH EYES INTRAOCULAR LENS ok \r\n pioo 21 BOTH EYES\r\n\r\n",
         "2020-03-11 16:20:21.910000",
         "2020-03-11 16:20:21.910000",
         null,
         "33",
         "323",
         "Celso, revisitado em 2021"
        ],
        [
         "3",
         "10",
         "0",
         null,
         "EHR Report Info: \r\n\r\nEHR Id: 322\r\n\r\nEHR Date Taken: 2/6/2018 12:11:00 PM\r\n\r\nReport Description: Celso, revisitado em 2021\nLIO com erro de grafia, por isso não reportei\r\n\r\n\r\nProcedures Evidence:\r\nFacoemulsificação 1 Day right Eye \r\nFacoemulsificação: faco\r\nfacoemulsifica..o\r\nphacoemulsification\r\n \r\nEylia 1 Day right Eye \r\nEylia: eylia\r\neylea\r\neyelia\r\neylai\r\neylis\r\neylai\r\naplica..o eylia\r\naplica..o eyelia\r\naplica..o eylai\r\naplica..o\\sde\\seylia\r\naplica..o\\sde\\seyelia\r\naplica..o\\sde\\seylai\r\naplica..o\\sde\\seyelis\r\naplica..o\\sde\\seylai \r\n\r\nPrescriptions:\r\n\r\nMeasurements:\r\nVisual Acuity Snellen No Correction right 0.333333333333333 None\r\n\r\nUnformated Text:\r\nPR&Eacute;-OP OK<br /><br />OCT SEM ATIVIDADE DE MNSR<br /><br />CD FACO 1o OD + EYLIA ( EXPLICO QUE OE PODE NAO MELHORAR MUITO DEVIDO A DMRI MAIS AVAN&Ccedil;ADA)<br /><br />06/02/18<br /><br />1oPO FACO =lIO + EYLIA OD<br /><br />SEM QUEIXAS<br /><br />AV LSC 20/60<br /><br />BIO DO RCA 1+. LIO OK<br /><br />VIGADEXA 3/3H + NEVANAC 12/12H\r\n\r\nPre Processed Text:\r\npré-op ok\r\nTOMOGRAFIA DE COERÊNCIA ÓPTICA sem atividade de MEMBRANA NEOVASCULAR SUB-RETINIANA\r\nCONDUTA faco 1o OLHO DIREITO + eylia ( explico que OLHO ESQUERDO pode nao melhorar muito devido a dmri mais avançada)\r\nOLHO DIREITO: 06/02/18\r\n1opo faco =LENTE INTRAOCULAR + eylia OLHO DIREITO\r\nsem queixas\r\nACUIDADE VISUAL lsc 20/60\r\nbiomicroscopia do REAÇÃO DE CAMADA ANTERIOR 1+. LENTE INTRAOCULAR ok\r\nvigadexa 3/3h + nevanac 12/12h\r\n\r\n\r\nTranslated Text:\r\npre-op ok \r\n OPTICAL COHENSION TOMography without activity of NEVASCULAR SUBRETINIAN MEVASCULAR \r\n CONDUCT PHACO 1o RIGHT EYLENS + eylia (explain that LEFT EYE may not improve much due to more advanced dmri) \r\n RIGHT EYLE: 06/02/18 \r\n ACUITY: 02/18 \r\n VISUAL lsc 20/60 \r\n biomicroscopy of the anterior layer reaction 1+. INTRAOCULE LENS ok \r\n vigadexa 3/3h + nevanac 12/12h\r\n\r\n",
         "2020-03-15 23:09:28.037000",
         "2020-03-15 23:09:28.037000",
         null,
         "33",
         "322",
         "Celso, revisitado em 2021\nLIO com erro de grafia, por isso não reportei"
        ],
        [
         "4",
         "11",
         "0",
         null,
         "EHR Report Info: \r\n\r\nEHR Id: 332\r\n\r\nEHR Date Taken: 3/26/2019 3:11:00 PM\r\n\r\nReport Description: Celso, revisitado em 2021\r\n\r\n\r\nProcedures Evidence:\r\nEylia 2 Month right  \r\nEylia: eylia\r\neylea\r\neyelia\r\neylai\r\neylis\r\neylai\r\naplica..o eylia\r\naplica..o eyelia\r\naplica..o eylai\r\naplica..o\\sde\\seylia\r\naplica..o\\sde\\seyelia\r\naplica..o\\sde\\seylai\r\naplica..o\\sde\\seyelis\r\naplica..o\\sde\\seylai \r\n\r\nPrescriptions:\r\n\r\nMeasurements:\r\nVisual Acuity Snellen right 0.4 None\r\nVisual Acuity Snellen left 0.1 None\r\n\r\nUnformated Text:\r\n2o MES EYLIA OD<br /><br />AV 20/50 E 20/200<br /><br /><br />BIO AO LIO OK<br /><br />FO AO ATROFIA PER MACULAR E&gt;D<br /><br />OCT MANTEM DEP ESTAVEL OD<br /><br />NOVO OCT EM 4 SEM<br />APLICA&Ccedil;&Atilde;O EM 8 SEM OE\r\n\r\nPre Processed Text:\r\n2o mes eylia OLHO DIREITO\r\nACUIDADE VISUAL    20/50 OLHO DIREITO\r\nACUIDADE VISUAL  20/200  OLHO ESQUERDO\r\nbiomicroscopia AMBOS OS OLHOS LENTE INTRAOCULAR ok\r\nFUNDO DE OLHO AMBOS OS OLHOS atrofia per macular e>d\r\nTOMOGRAFIA DE COERÊNCIA ÓPTICA mantem dep estavel OLHO DIREITO\r\nnovo TOMOGRAFIA DE COERÊNCIA ÓPTICA em 4 sem\r\naplicação em 8 sem OLHO ESQUERDO\r\n\r\n\r\nTranslated Text:\r\n2O mes eylia RIGHT EYE \r\n VISUAL ACUITY 20/50 RIGHT EYE \r\n VISUAL ACUITY 20/200 LEFT EYE \r\n biomicroscopy BOTH EYES INTRAOCULAR LENS ok \r\n NEW OPTICAL COFENSION TOMOGRAPHY IN 4 without \r\n application in 8 without LEFT EYE\r\n\r\n",
         "2020-03-15 23:33:09.280000",
         "2020-03-15 23:33:09.280000",
         null,
         "33",
         "332",
         "Celso, revisitado em 2021"
        ]
       ],
       "shape": {
        "columns": 10,
        "rows": 5
       }
      },
      "text/html": [
       "<div>\n",
       "<style scoped>\n",
       "    .dataframe tbody tr th:only-of-type {\n",
       "        vertical-align: middle;\n",
       "    }\n",
       "\n",
       "    .dataframe tbody tr th {\n",
       "        vertical-align: top;\n",
       "    }\n",
       "\n",
       "    .dataframe thead th {\n",
       "        text-align: right;\n",
       "    }\n",
       "</style>\n",
       "<table border=\"1\" class=\"dataframe\">\n",
       "  <thead>\n",
       "    <tr style=\"text-align: right;\">\n",
       "      <th></th>\n",
       "      <th>ID</th>\n",
       "      <th>ValidationStatus</th>\n",
       "      <th>DownloadUrl</th>\n",
       "      <th>ReportText</th>\n",
       "      <th>DateCreated</th>\n",
       "      <th>LastModified</th>\n",
       "      <th>Exam_ID</th>\n",
       "      <th>ExtractedData</th>\n",
       "      <th>EHR_ID</th>\n",
       "      <th>Description</th>\n",
       "    </tr>\n",
       "  </thead>\n",
       "  <tbody>\n",
       "    <tr>\n",
       "      <th>0</th>\n",
       "      <td>7</td>\n",
       "      <td>0</td>\n",
       "      <td>None</td>\n",
       "      <td>EHR Report Info: \\r\\n\\r\\nEHR Id: 4717\\r\\n\\r\\nE...</td>\n",
       "      <td>2020-03-11 14:29:30.267</td>\n",
       "      <td>2020-03-11 14:29:30.267</td>\n",
       "      <td>None</td>\n",
       "      <td>33</td>\n",
       "      <td>4717</td>\n",
       "      <td>Celso, revisitado em  2021</td>\n",
       "    </tr>\n",
       "    <tr>\n",
       "      <th>1</th>\n",
       "      <td>8</td>\n",
       "      <td>0</td>\n",
       "      <td>None</td>\n",
       "      <td>EHR Report Info: \\r\\n\\r\\nEHR Id: 311\\r\\n\\r\\nEH...</td>\n",
       "      <td>2020-03-11 16:00:22.507</td>\n",
       "      <td>2020-03-11 16:00:22.507</td>\n",
       "      <td>None</td>\n",
       "      <td>33</td>\n",
       "      <td>311</td>\n",
       "      <td>Celso, revisitado em 2021</td>\n",
       "    </tr>\n",
       "    <tr>\n",
       "      <th>2</th>\n",
       "      <td>9</td>\n",
       "      <td>0</td>\n",
       "      <td>None</td>\n",
       "      <td>EHR Report Info: \\r\\n\\r\\nEHR Id: 323\\r\\n\\r\\nEH...</td>\n",
       "      <td>2020-03-11 16:20:21.910</td>\n",
       "      <td>2020-03-11 16:20:21.910</td>\n",
       "      <td>None</td>\n",
       "      <td>33</td>\n",
       "      <td>323</td>\n",
       "      <td>Celso, revisitado em 2021</td>\n",
       "    </tr>\n",
       "    <tr>\n",
       "      <th>3</th>\n",
       "      <td>10</td>\n",
       "      <td>0</td>\n",
       "      <td>None</td>\n",
       "      <td>EHR Report Info: \\r\\n\\r\\nEHR Id: 322\\r\\n\\r\\nEH...</td>\n",
       "      <td>2020-03-15 23:09:28.037</td>\n",
       "      <td>2020-03-15 23:09:28.037</td>\n",
       "      <td>None</td>\n",
       "      <td>33</td>\n",
       "      <td>322</td>\n",
       "      <td>Celso, revisitado em 2021\\nLIO com erro de gra...</td>\n",
       "    </tr>\n",
       "    <tr>\n",
       "      <th>4</th>\n",
       "      <td>11</td>\n",
       "      <td>0</td>\n",
       "      <td>None</td>\n",
       "      <td>EHR Report Info: \\r\\n\\r\\nEHR Id: 332\\r\\n\\r\\nEH...</td>\n",
       "      <td>2020-03-15 23:33:09.280</td>\n",
       "      <td>2020-03-15 23:33:09.280</td>\n",
       "      <td>None</td>\n",
       "      <td>33</td>\n",
       "      <td>332</td>\n",
       "      <td>Celso, revisitado em 2021</td>\n",
       "    </tr>\n",
       "  </tbody>\n",
       "</table>\n",
       "</div>"
      ],
      "text/plain": [
       "   ID  ValidationStatus DownloadUrl  \\\n",
       "0   7                 0        None   \n",
       "1   8                 0        None   \n",
       "2   9                 0        None   \n",
       "3  10                 0        None   \n",
       "4  11                 0        None   \n",
       "\n",
       "                                          ReportText             DateCreated  \\\n",
       "0  EHR Report Info: \\r\\n\\r\\nEHR Id: 4717\\r\\n\\r\\nE... 2020-03-11 14:29:30.267   \n",
       "1  EHR Report Info: \\r\\n\\r\\nEHR Id: 311\\r\\n\\r\\nEH... 2020-03-11 16:00:22.507   \n",
       "2  EHR Report Info: \\r\\n\\r\\nEHR Id: 323\\r\\n\\r\\nEH... 2020-03-11 16:20:21.910   \n",
       "3  EHR Report Info: \\r\\n\\r\\nEHR Id: 322\\r\\n\\r\\nEH... 2020-03-15 23:09:28.037   \n",
       "4  EHR Report Info: \\r\\n\\r\\nEHR Id: 332\\r\\n\\r\\nEH... 2020-03-15 23:33:09.280   \n",
       "\n",
       "             LastModified Exam_ID  ExtractedData  EHR_ID  \\\n",
       "0 2020-03-11 14:29:30.267    None             33    4717   \n",
       "1 2020-03-11 16:00:22.507    None             33     311   \n",
       "2 2020-03-11 16:20:21.910    None             33     323   \n",
       "3 2020-03-15 23:09:28.037    None             33     322   \n",
       "4 2020-03-15 23:33:09.280    None             33     332   \n",
       "\n",
       "                                         Description  \n",
       "0                         Celso, revisitado em  2021  \n",
       "1                          Celso, revisitado em 2021  \n",
       "2                          Celso, revisitado em 2021  \n",
       "3  Celso, revisitado em 2021\\nLIO com erro de gra...  \n",
       "4                          Celso, revisitado em 2021  "
      ]
     },
     "execution_count": 5,
     "metadata": {},
     "output_type": "execute_result"
    }
   ],
   "source": [
    "df.head()"
   ]
  },
  {
   "cell_type": "code",
   "execution_count": 1,
   "id": "c604de61",
   "metadata": {},
   "outputs": [],
   "source": [
    "import pandas as pd\n",
    "\n",
    "df1 = pd.read_csv(r\"C:\\Users\\dxr1276\\OneDrive\\Voiston\\Codigos\\Dashboard LLM\\data\\comparacao_medidas_v4.csv\")\n",
    "df2 = pd.read_csv(r\"C:\\Users\\dxr1276\\OneDrive\\Voiston\\Codigos\\Dashboard LLM\\data\\comparacao_medidas_v5.csv\")\n",
    "df3 = pd.read_csv(r\"C:\\Users\\dxr1276\\OneDrive\\Voiston\\Codigos\\Dashboard LLM\\data\\comparacao_medidas_17092025.csv\")"
   ]
  },
  {
   "cell_type": "code",
   "execution_count": 2,
   "id": "510e2a09",
   "metadata": {},
   "outputs": [
    {
     "name": "stdout",
     "output_type": "stream",
     "text": [
      "(4062, 24) (24871, 24) (115656, 24)\n"
     ]
    }
   ],
   "source": [
    "print(df1.shape, df2.shape, df3.shape)"
   ]
  }
 ],
 "metadata": {
  "kernelspec": {
   "display_name": "yanomami",
   "language": "python",
   "name": "python3"
  },
  "language_info": {
   "codemirror_mode": {
    "name": "ipython",
    "version": 3
   },
   "file_extension": ".py",
   "mimetype": "text/x-python",
   "name": "python",
   "nbconvert_exporter": "python",
   "pygments_lexer": "ipython3",
   "version": "3.11.5"
  }
 },
 "nbformat": 4,
 "nbformat_minor": 5
}
